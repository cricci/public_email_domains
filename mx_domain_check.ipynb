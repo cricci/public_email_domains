{
 "cells": [
  {
   "cell_type": "code",
   "execution_count": 15,
   "metadata": {},
   "outputs": [
    {
     "name": "stdout",
     "output_type": "stream",
     "text": [
      "Requirement already satisfied: dnspython in /opt/homebrew/lib/python3.10/site-packages (2.6.1)\n",
      "Note: you may need to restart the kernel to use updated packages.\n"
     ]
    }
   ],
   "source": [
    "pip install dnspython"
   ]
  },
  {
   "cell_type": "code",
   "execution_count": 20,
   "metadata": {},
   "outputs": [],
   "source": [
    "import csv\n",
    "import dns.resolver\n",
    "\n",
    "def check_mx_record(domain):\n",
    "    try:\n",
    "        answers = dns.resolver.resolve(domain, 'MX')\n",
    "        return True if answers else False\n",
    "    except (dns.resolver.NoNameservers, dns.resolver.NoAnswer, dns.resolver.NXDOMAIN, dns.resolver.Timeout):\n",
    "        return False\n",
    "\n",
    "def check_domains(domains):\n",
    "    results = []\n",
    "    for domain in domains:\n",
    "        has_mx = check_mx_record(domain)\n",
    "        results.append({'domain': domain, 'has_mx': has_mx})\n",
    "    return results\n",
    "\n",
    "def save_to_csv(results, filename):\n",
    "    with open(filename, 'w', newline='') as csvfile:\n",
    "        fieldnames = ['domain', 'has_mx']\n",
    "        writer = csv.DictWriter(csvfile, fieldnames=fieldnames)\n",
    "        writer.writeheader()\n",
    "        for result in results:\n",
    "            writer.writerow(result)\n",
    "\n",
    "if __name__ == \"__main__\":\n",
    "    domains = [\n",
    "        '126.com','163.com','21cn.com','accountant.com','adelphia.net','aim.com','aliceadsl.fr','alive.it','aliyun.com',\n",
    "        'ameritech.net','aol.co.uk','aol.com','aol.de','aol.fr','aol.it','aol.jp','aon.at','arcor.de','arnet.com.ar',\n",
    "        'asia.com','att.net','austin.rr.com','bak.rr.com','bell.net','bellsouth.net','berkshire.rr.com','bham.rr.com',\n",
    "        'bigpond.com','bigpond.net.au','bizec.rr.com','bizwi.rr.com','bk.ru','bluewin.ch','blueyonder.co.uk','bol.com.br',\n",
    "        'bresnan.net','brighthouse.com','bt.com','btinternet.com','ca.rr.com','carolina.rr.com','centurytel.net','cfl.rr.com',\n",
    "        'charter.net','cheerful.com','chello.nl','cinci.rr.com','club-internet.fr','columbus.rr.com','comcast.net',\n",
    "        'consultant.com','contractor.net','cox.net','daum.net','dc.rr.com','dr.com','earthlink.net','ec.rr.com',\n",
    "        'elmore.rr.com','elp.rr.com','email.com','email.msn.com','email.it','emore.rr.com','engineer.com','eufala.rr.com',\n",
    "        'eufaula.rr.com','europe.com','facebook.com','fastmail.com','fastmail.fm','fibertel.com.ar','financier.com',\n",
    "        'foxmail.com','free.fr','freenet.de','frontier.com','frontiernet.net','games.com','globo.com','globomail.com',\n",
    "        'gmail.com','gmx.at','gmx.ch','gmx.co.uk','gmx.com','gmx.de','gmx.fr','gmx.li','gmx.net','gmx.us','googlemail.com',\n",
    "        'gt.rr.com','hanmail.net','hawaii.rr.com','hetnet.nl','home.nl','hot.rr.com','hotmail.be','hotmail.ca','hotmail.co.uk',\n",
    "        'hotmail.com','hotmail.com.ar','hotmail.com.br','hotmail.com.mx','hotmail.de','hotmail.es','hotmail.fr','hotmail.it',\n",
    "        'hush.com','hushmail.com','hvc.rr.com','icloud.com','ig.com.br','iname.com','inbox.com','inbox.ru','indy.rr.com',\n",
    "        'insight.rr.com','juno.com','kc.rr.com','keemail.me','laposte.net','lavabit.com','libero.it','linuxmail.org','list.ru',\n",
    "        'live.be','live.ca','live.co.uk','live.com','live.com.ar','live.com.au','live.com.mx','live.de','live.fr','live.it',\n",
    "        'live.nl','luckymail.com','love.com','ma.rr.com','mac.com','mail.com','mail.ru','mailfence.com','maine.rr.com',\n",
    "        'mass.rr.com','me.com','mi.rr.com','msn.com','musician.org','myself.com','myyahoo.com','nate.com','naver.com',\n",
    "        'nc.rr.com','ne.rr.com','neb.rr.com','neo.rr.com','netscape.com','netscape.net','netzero.com','neuf.fr','new.rr.com',\n",
    "        'nj.rr.com','ntlworld.com','nyc.rr.com','nycap.rr.com','oh.rr.com','oi.com.br','onmail.com','onmail.de','optonline.net',\n",
    "        'optusnet.com.au','orange.fr','orange.net','outlook.com','outlook.com.br','pa.rr.com','panhandle.rr.com','planet.nl',\n",
    "        'pm.me','pobox.com','post.com','poste.it','postmaster.rr.com','prodigy.net.mx','proton.me','protonmail.ch',\n",
    "        'protonmail.com','qq.com','r7.com','rambler.ru','rediffmail.com','rgv.rr.com','roadrunner.com','rochester.rr.com',\n",
    "        'rocketmail.com','rogers.com','rr.com','safe-mail.net','san.rr.com','satx.rr.com','sbcglobal.net','sc.rr.com','sfr.fr',\n",
    "        'shaw.ca','si.rr.com','sina.cn','sina.com','sky.com','skynet.be','socal.rr.com','speedy.com.ar','stny.rr.com',\n",
    "        'stx.rr.com','sympatico.ca','sw.rr.com','sympatico.ca','t-online.de','talktalk.co.uk','tampabay.rr.com','techie.com',\n",
    "        'telenet.be','teletu.it','terra.com.br','tin.it','tiscali.co.uk','tiscali.it','triad.rr.com','tuta.io','tutamail.com',\n",
    "        'tutanota.com','tutanota.de','tvcablenet.be','twc.com','twcny.rr.com','twmi.rr.com','tx.rr.com','uol.com.br','usa.com',\n",
    "        'verizon.net','virgilio.it','virgin.net','virginmedia.com','voila.fr','voo.be','wanadoo.fr','web.de','wi.rr.com',\n",
    "        'windstream.net','woh.rr.com','workmail.com','wow.com','writeme.com','ya.ru','yahoo.ca','yahoo.co.id','yahoo.co.in',\n",
    "        'yahoo.co.jp','yahoo.co.kr','yahoo.co.uk','yahoo.com','yahoo.com.ar','yahoo.com.au','yahoo.com.br','yahoo.com.in',\n",
    "        'yahoo.com.mx','yahoo.com.ph','yahoo.com.sg','yahoo.de','yahoo.es','yahoo.fr','yahoo.in','yahoo.it','yandex.by',\n",
    "        'yandex.com','yandex.kz','yandex.ru','yandex.ua','yeah.net','ygm.com','ymail.com','zipmail.com.br','zoho.com',\n",
    "        'zohomail.com','zonnet.nl',\n",
    "        # Add more domains here.\n",
    "    ]\n",
    "    \n",
    "    results = check_domains(domains)\n",
    "    save_to_csv(results, 'domain_mx_check.csv')\n",
    "\n"
   ]
  }
 ],
 "metadata": {
  "kernelspec": {
   "display_name": "Python 3",
   "language": "python",
   "name": "python3"
  },
  "language_info": {
   "codemirror_mode": {
    "name": "ipython",
    "version": 3
   },
   "file_extension": ".py",
   "mimetype": "text/x-python",
   "name": "python",
   "nbconvert_exporter": "python",
   "pygments_lexer": "ipython3",
   "version": "3.10.14"
  }
 },
 "nbformat": 4,
 "nbformat_minor": 2
}
